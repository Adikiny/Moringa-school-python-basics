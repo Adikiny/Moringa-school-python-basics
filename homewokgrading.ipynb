{
  "nbformat": 4,
  "nbformat_minor": 0,
  "metadata": {
    "colab": {
      "provenance": [],
      "authorship_tag": "ABX9TyOPVBWzf3YMTFiVURMHimhJ",
      "include_colab_link": true
    },
    "kernelspec": {
      "name": "python3",
      "display_name": "Python 3"
    },
    "language_info": {
      "name": "python"
    }
  },
  "cells": [
    {
      "cell_type": "markdown",
      "metadata": {
        "id": "view-in-github",
        "colab_type": "text"
      },
      "source": [
        "<a href=\"https://colab.research.google.com/github/Adikiny/Moringa-school-python-basics/blob/main/homewokgrading.ipynb\" target=\"_parent\"><img src=\"https://colab.research.google.com/assets/colab-badge.svg\" alt=\"Open In Colab\"/></a>"
      ]
    },
    {
      "cell_type": "code",
      "execution_count": 3,
      "metadata": {
        "colab": {
          "base_uri": "https://localhost:8080/"
        },
        "id": "qqMeuSljYEOO",
        "outputId": "a7366252-ecd2-4986-8a06-63dd0477d6c9"
      },
      "outputs": [
        {
          "output_type": "stream",
          "name": "stdout",
          "text": [
            "Enter first name: joe\n",
            "Enter last name: doe\n",
            "Student name: Joe Doe\n",
            "Enter marks: 34\n",
            "Grade: E : Poor\n"
          ]
        }
      ],
      "source": [
        "first_name = input(\"Enter first name: \").capitalize()\n",
        "last_name = input('Enter last name: ').capitalize()\n",
        "print('Student name:', first_name + ' ' + last_name)\n",
        "marks = int(input(\"Enter marks: \"))\n",
        "if marks >= 81 and marks <=100:\n",
        "    print('Grade: A :', 'Excellent')\n",
        "elif marks >= 71 and marks <=80:\n",
        "    print('Grade: B :', 'Good')\n",
        "elif marks >= 61 and marks <=70:\n",
        "    print('Grade: C :', 'Above average')\n",
        "elif marks >= 51 and marks <=60:\n",
        "    print('Grade: D :', 'Average')\n",
        "elif marks >= 0 and marks <=50:\n",
        "    print('Grade: E :', 'Poor')\n",
        "else:\n",
        "    print('value out of range!')"
      ]
    }
  ]
}